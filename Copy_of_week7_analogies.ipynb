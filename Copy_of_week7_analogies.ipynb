{
  "nbformat": 4,
  "nbformat_minor": 0,
  "metadata": {
    "colab": {
      "provenance": [],
      "include_colab_link": true
    },
    "kernelspec": {
      "name": "python3",
      "display_name": "Python 3"
    },
    "language_info": {
      "name": "python"
    }
  },
  "cells": [
    {
      "cell_type": "markdown",
      "metadata": {
        "id": "view-in-github",
        "colab_type": "text"
      },
      "source": [
        "<a href=\"https://colab.research.google.com/github/Mariyyah-Alrasheed/W7_NLP_T5/blob/main/Copy_of_week7_analogies.ipynb\" target=\"_parent\"><img src=\"https://colab.research.google.com/assets/colab-badge.svg\" alt=\"Open In Colab\"/></a>"
      ]
    },
    {
      "cell_type": "markdown",
      "source": [
        "# Load pre-trained GloVe model\n",
        "\n",
        "The GloVe model is a method to convert words into numbers. It looks at how often words appear together in text and assigns each word a unique number so that similar words have similar numbers. This helps computers understand the meaning of words and find relationships between them, like \"king\" being similar to \"queen.\"\n",
        "\n",
        "Gensim is an open-source Python library designed for topic modeling, document indexing, and similarity retrieval with large corpora. It is widely used for natural language processing (NLP) and is particularly known for its implementations of word embedding models like Word2Vec, Doc2Vec, and FastText. Gensim provides simple and efficient tools for vector space modeling and allows users to easily train and utilize word embeddings for various NLP tasks."
      ],
      "metadata": {
        "id": "Pxy3gR8NyXD2"
      }
    },
    {
      "cell_type": "code",
      "execution_count": 1,
      "metadata": {
        "id": "P2FR2BXdxagL",
        "colab": {
          "base_uri": "https://localhost:8080/"
        },
        "outputId": "236370f4-68ec-4e4d-f285-36b147d74176"
      },
      "outputs": [
        {
          "output_type": "stream",
          "name": "stdout",
          "text": [
            "[==================================================] 100.0% 128.1/128.1MB downloaded\n"
          ]
        }
      ],
      "source": [
        "import gensim.downloader as api\n",
        "\n",
        "# Load pre-trained GloVe model\n",
        "model = api.load(\"glove-wiki-gigaword-100\")\n",
        "\n"
      ]
    },
    {
      "cell_type": "markdown",
      "source": [
        "# Find analogy using word embeddings"
      ],
      "metadata": {
        "id": "clFjMIqA0guD"
      }
    },
    {
      "cell_type": "code",
      "source": [
        "# Function to find analogy using word embeddings\n",
        "def find_analogy(word1, word2, word3, topn=3):\n",
        "    try:\n",
        "        # Perform vector arithmetic to find the analogy\n",
        "        analogy = model.most_similar(positive=[word1, word2], negative=[word3], topn=topn)\n",
        "        return analogy\n",
        "    except KeyError as e:\n",
        "        print(f\"Word not found in vocabulary: {e}\")\n",
        "        return None"
      ],
      "metadata": {
        "id": "D_SHBCIi0hEK"
      },
      "execution_count": 2,
      "outputs": []
    },
    {
      "cell_type": "markdown",
      "source": [
        "# Example analogy"
      ],
      "metadata": {
        "id": "JwO34guuyeYs"
      }
    },
    {
      "cell_type": "code",
      "source": [
        "word1 = \"king\"\n",
        "word2 = \"man\"\n",
        "word3 = \"woman\"\n",
        "# Find the analogy\n",
        "analogy = find_analogy(word1, word2, word3)\n",
        "analogy"
      ],
      "metadata": {
        "id": "_T4NjVoVyesc",
        "colab": {
          "base_uri": "https://localhost:8080/"
        },
        "outputId": "caaab988-020d-4194-c7cf-b1968824d489"
      },
      "execution_count": 3,
      "outputs": [
        {
          "output_type": "execute_result",
          "data": {
            "text/plain": [
              "[('prince', 0.6826401948928833),\n",
              " ('brother', 0.6500723958015442),\n",
              " ('ii', 0.6345422267913818)]"
            ]
          },
          "metadata": {},
          "execution_count": 3
        }
      ]
    },
    {
      "cell_type": "markdown",
      "source": [
        "\n",
        "# Better Model\n",
        "The word2vec-google-news-300 is a pre-trained word embedding model trained on a large corpus of Google News articles. It was trained using the word2vec algorithm and consists of word vectors of dimensionality 300. This model captures semantic relationships between words based on the context in which they appear in the training data. These word embeddings are useful for various natural language processing tasks such as word similarity, analogy detection, and text classification."
      ],
      "metadata": {
        "id": "z3fi1-Yl3R7Y"
      }
    },
    {
      "cell_type": "code",
      "source": [
        "import gensim.downloader\n",
        "\n",
        "# Download and load pre-trained word embeddings model\n",
        "model = gensim.downloader.load('word2vec-google-news-300')"
      ],
      "metadata": {
        "id": "aD2m-2uc3SFa",
        "colab": {
          "base_uri": "https://localhost:8080/"
        },
        "outputId": "98774cc1-f4f0-4ddc-9eff-a4ace67064b5"
      },
      "execution_count": 5,
      "outputs": [
        {
          "output_type": "stream",
          "name": "stdout",
          "text": [
            "[==================================================] 100.0% 1662.8/1662.8MB downloaded\n"
          ]
        }
      ]
    },
    {
      "cell_type": "markdown",
      "source": [
        "# Define analogy relationship"
      ],
      "metadata": {
        "id": "xDfK8uBx8AMS"
      }
    },
    {
      "cell_type": "code",
      "source": [
        "analogy = ('king', 'man', 'woman')\n",
        "\n",
        "# Calculate analogy\n",
        "try:\n",
        "    result = model.most_similar(positive=[analogy[0], analogy[2]], negative=[analogy[1]], topn=1)\n",
        "    print(f\"Analogous word to '{analogy[0]}' - '{analogy[1]}' + '{analogy[2]}' is: {result[0][0]}\")\n",
        "except KeyError:\n",
        "    print(\"One or more words not found in vocabulary.\")"
      ],
      "metadata": {
        "id": "Sol8o93K8AVx",
        "colab": {
          "base_uri": "https://localhost:8080/"
        },
        "outputId": "ca8fce0a-2d33-42f9-b584-cf190611292c"
      },
      "execution_count": 7,
      "outputs": [
        {
          "output_type": "stream",
          "name": "stdout",
          "text": [
            "Analogous word to 'king' - 'man' + 'woman' is: queen\n"
          ]
        }
      ]
    },
    {
      "cell_type": "markdown",
      "source": [
        "Please try the below:\n",
        "\n",
        "\"Paris\" - \"France\" + \"Italy\" ≈ \"\"\n",
        "\n",
        "\"Tokyo\" - \"Japan\" + \"Germany\" ≈ \"\"\n",
        "\n",
        "\"Apple\" - \"Fruit\" + \"Electronics\" ≈ \"\"\n",
        "\n",
        "\"Facebook\" - \"Social media\" + \"Search\" ≈ \"\"\n",
        "\n",
        "\"Cat\" - \"Pet\" + \"Bird\" ≈ \"\""
      ],
      "metadata": {
        "id": "jAqfnwKP9hDW"
      }
    },
    {
      "cell_type": "code",
      "source": [
        "analo = ('Paris', 'France', 'Saudi')\n",
        "\n",
        "try:\n",
        "    result = model.most_similar(positive = [analo[0] , analo[2]], negative=[analo[1]], topn=1)\n",
        "    print(f'Analogous word to {analo[0]} - {analo[1]} + {analo[2]} is: {result[0][0]}')\n",
        "except KeyError:\n",
        "    print('One or more words not found in vocabulary.')"
      ],
      "metadata": {
        "colab": {
          "base_uri": "https://localhost:8080/"
        },
        "id": "oo96kHe4oUkB",
        "outputId": "d4119c55-2add-4232-d6b1-8f68c9faf6b5"
      },
      "execution_count": 13,
      "outputs": [
        {
          "output_type": "stream",
          "name": "stdout",
          "text": [
            "Analogous word to Paris - France + Saudi is: Riyadh\n"
          ]
        }
      ]
    },
    {
      "cell_type": "code",
      "source": [
        "analo = ('Tokyo', 'Japan', 'Germany')\n",
        "\n",
        "try:\n",
        "    result = model.most_similar(positive = [analo[0] , analo[2]], negative=[analo[1]], topn=1)\n",
        "    print(f'Analogous word to {analo[0]} - {analo[1]} + {analo[2]} is: {result[0][0]}')\n",
        "except KeyError:\n",
        "    print('One or more words not found in vocabulary.')"
      ],
      "metadata": {
        "colab": {
          "base_uri": "https://localhost:8080/"
        },
        "id": "NXE1v60QridP",
        "outputId": "5fc453d2-f67b-4346-8a34-f981006128be"
      },
      "execution_count": 14,
      "outputs": [
        {
          "output_type": "stream",
          "name": "stdout",
          "text": [
            "Analogous word to Tokyo - Japan + Germany is: Frankfurt\n"
          ]
        }
      ]
    },
    {
      "cell_type": "code",
      "source": [
        "analo = ('Apple', 'Fruit', 'Electronics')\n",
        "\n",
        "try:\n",
        "    result = model.most_similar(positive = [analo[0] , analo[2]], negative=[analo[1]], topn=1)\n",
        "    print(f'Analogous word to {analo[0]} - {analo[1]} + {analo[2]} is: {result[0][0]}')\n",
        "except KeyError:\n",
        "    print('One or more words not found in vocabulary.')"
      ],
      "metadata": {
        "colab": {
          "base_uri": "https://localhost:8080/"
        },
        "id": "RO9v9g3YsfH7",
        "outputId": "b2da161e-aab6-46fd-93a4-feb9b99a79be"
      },
      "execution_count": 15,
      "outputs": [
        {
          "output_type": "stream",
          "name": "stdout",
          "text": [
            "Analogous word to Apple - Fruit + Electronics is: consumer_electronics\n"
          ]
        }
      ]
    },
    {
      "cell_type": "code",
      "source": [
        "analo = (\"Facebook\" , \"Social media\" , \"Search\" )\n",
        "\n",
        "try:\n",
        "    result = model.most_similar(positive = [analo[0] , analo[2]], negative=[analo[1]], topn=1)\n",
        "    print(f'Analogous word to {analo[0]} - {analo[1]} + {analo[2]} is: {result[0][0]}')\n",
        "except KeyError:\n",
        "    print('One or more words not found in vocabulary.')"
      ],
      "metadata": {
        "colab": {
          "base_uri": "https://localhost:8080/"
        },
        "id": "5DoFXqUNstG8",
        "outputId": "5023d291-c84b-44e1-90ad-46af10b2b14d"
      },
      "execution_count": 19,
      "outputs": [
        {
          "output_type": "stream",
          "name": "stdout",
          "text": [
            "One or more words not found in vocabulary.\n"
          ]
        }
      ]
    },
    {
      "cell_type": "code",
      "source": [
        "analo = (\"Cat\" , \"Pet\" , \"Bird\")\n",
        "\n",
        "try:\n",
        "    result = model.most_similar(positive = [analo[0] , analo[2]], negative=[analo[1]], topn=1)\n",
        "    print(f'Analogous word to {analo[0]} - {analo[1]} + {analo[2]} is: {result[0][0]}')\n",
        "except KeyError:\n",
        "    print('One or more words not found in vocabulary.')"
      ],
      "metadata": {
        "colab": {
          "base_uri": "https://localhost:8080/"
        },
        "outputId": "64ed021d-6d31-4fa9-dd1a-50229f71f0f1",
        "id": "Dx6Bt2DXtVHj"
      },
      "execution_count": 18,
      "outputs": [
        {
          "output_type": "stream",
          "name": "stdout",
          "text": [
            "Analogous word to Cat - Pet + Bird is: Hawk\n"
          ]
        }
      ]
    },
    {
      "cell_type": "code",
      "source": [],
      "metadata": {
        "id": "gB6xq2HXvmr3"
      },
      "execution_count": null,
      "outputs": []
    }
  ]
}