{
  "nbformat": 4,
  "nbformat_minor": 0,
  "metadata": {
    "colab": {
      "provenance": [],
      "include_colab_link": true
    },
    "kernelspec": {
      "name": "python3",
      "display_name": "Python 3"
    },
    "language_info": {
      "name": "python"
    }
  },
  "cells": [
    {
      "cell_type": "markdown",
      "metadata": {
        "id": "view-in-github",
        "colab_type": "text"
      },
      "source": [
        "<a href=\"https://colab.research.google.com/github/Mariyyah-Alrasheed/W7_NLP_T5/blob/main/Copy_of_TF_IDF.ipynb\" target=\"_parent\"><img src=\"https://colab.research.google.com/assets/colab-badge.svg\" alt=\"Open In Colab\"/></a>"
      ]
    },
    {
      "cell_type": "markdown",
      "source": [
        "## Introduction to TF-IDF\n",
        "\n",
        "Term Frequency-Inverse Document Frequency (TF-IDF) is a statistical measure used to evaluate the importance of a word in a document relative to a collection of documents (corpus). It helps in identifying terms that are more relevant to a particular document while reducing the influence of commonly occurring terms across all documents.\n",
        "\n",
        "1. **Term Frequency (TF)**: Measures how frequently a term appears in a document. It is often normalized by the total number of terms in the document.\n",
        "2. **Inverse Document Frequency (IDF)**: Measures how important a term is by evaluating how frequently it appears across all documents. Terms that appear in fewer documents have higher IDF scores.\n",
        "3. **TF-IDF Score**: The product of TF and IDF, which helps in identifying terms that are unique to a document and relevant in the context of the corpus."
      ],
      "metadata": {
        "id": "PhxLoLVbJrcW"
      }
    },
    {
      "cell_type": "code",
      "source": [
        "## Example: Using Scikit-Learn for TF-IDF\n",
        "from sklearn.feature_extraction.text import TfidfVectorizer"
      ],
      "metadata": {
        "id": "saN8v1mhJw5I"
      },
      "execution_count": null,
      "outputs": []
    },
    {
      "cell_type": "code",
      "source": [
        "# from sklearn.featuer_extraction.text import TfidfVectorizer"
      ],
      "metadata": {
        "id": "16nMYU5ZxaDU"
      },
      "execution_count": null,
      "outputs": []
    },
    {
      "cell_type": "code",
      "source": [
        "# Sample documents\n",
        "documents = [\n",
        "    \"I love programming in Python\",\n",
        "    \"Python programming is fun\",\n",
        "    \"Machine learning is fascinating\"\n",
        "]"
      ],
      "metadata": {
        "id": "RZ7JVD7EJztw"
      },
      "execution_count": null,
      "outputs": []
    },
    {
      "cell_type": "markdown",
      "source": [
        "# Create the TfidfVectorizer object\n"
      ],
      "metadata": {
        "id": "9inkRFz2KAH_"
      }
    },
    {
      "cell_type": "code",
      "source": [
        "vectorizer = TfidfVectorizer()"
      ],
      "metadata": {
        "id": "akJADWhnJ2no"
      },
      "execution_count": null,
      "outputs": []
    },
    {
      "cell_type": "markdown",
      "source": [
        "# Fit and transform the documents\n"
      ],
      "metadata": {
        "id": "vUZQP-LpKBqR"
      }
    },
    {
      "cell_type": "code",
      "source": [
        "X = vectorizer.fit_transform(documents)"
      ],
      "metadata": {
        "id": "i7pQv0VVJ34P"
      },
      "execution_count": null,
      "outputs": []
    },
    {
      "cell_type": "markdown",
      "source": [
        "# Convert to array and get feature names\n"
      ],
      "metadata": {
        "id": "juFqfaOhKDGw"
      }
    },
    {
      "cell_type": "code",
      "source": [
        "X_array = X.toarray()\n",
        "feature_names = vectorizer.get_feature_names_out()"
      ],
      "metadata": {
        "id": "CeHS-15kJ4f8"
      },
      "execution_count": null,
      "outputs": []
    },
    {
      "cell_type": "markdown",
      "source": [
        "# Display the TF-IDF representation\n"
      ],
      "metadata": {
        "id": "O0Ax4H1GKEuK"
      }
    },
    {
      "cell_type": "code",
      "source": [
        "import pandas as pd\n",
        "df = pd.DataFrame(X_array, columns=feature_names)\n",
        "print(df)"
      ],
      "metadata": {
        "id": "epDrtKN9J5kZ",
        "colab": {
          "base_uri": "https://localhost:8080/"
        },
        "outputId": "a294f509-3f57-48f5-da0d-9f7d59fa9fb8"
      },
      "execution_count": null,
      "outputs": [
        {
          "output_type": "stream",
          "name": "stdout",
          "text": [
            "   fascinating       fun        in        is  learning      love   machine  \\\n",
            "0     0.000000  0.000000  0.562829  0.000000  0.000000  0.562829  0.000000   \n",
            "1     0.000000  0.604652  0.000000  0.459854  0.000000  0.000000  0.000000   \n",
            "2     0.528635  0.000000  0.000000  0.402040  0.528635  0.000000  0.528635   \n",
            "\n",
            "   programming    python  \n",
            "0     0.428046  0.428046  \n",
            "1     0.459854  0.459854  \n",
            "2     0.000000  0.000000  \n"
          ]
        }
      ]
    },
    {
      "cell_type": "code",
      "source": [
        "documents = [\n",
        "    \"Data science is an interdisciplinary field\",\n",
        "    \"It uses scientific methods, processes, algorithms\",\n",
        "    \"Data science is used for data analysis\"\n",
        "]\n",
        "\n"
      ],
      "metadata": {
        "id": "YZ0uHgt6KJ3C"
      },
      "execution_count": null,
      "outputs": []
    },
    {
      "cell_type": "markdown",
      "source": [
        "# #TODO : Create the TfidfVectorizer object\n"
      ],
      "metadata": {
        "id": "WUN_TXkaKLhc"
      }
    },
    {
      "cell_type": "code",
      "source": [
        "Vectorizer = TfidfVectorizer()"
      ],
      "metadata": {
        "id": "oJcscZ4rxD3f"
      },
      "execution_count": null,
      "outputs": []
    },
    {
      "cell_type": "markdown",
      "source": [
        "# #TODO : Fit and transform the documents\n"
      ],
      "metadata": {
        "id": "hQBH06sNKSbH"
      }
    },
    {
      "cell_type": "code",
      "source": [
        "X = Vectorizer.fit_transform(documents)"
      ],
      "metadata": {
        "id": "oOFT80BdxJ1E"
      },
      "execution_count": null,
      "outputs": []
    },
    {
      "cell_type": "markdown",
      "source": [
        "# #TODO : Convert to array and get feature names\n"
      ],
      "metadata": {
        "id": "r2L8vkR8KTmK"
      }
    },
    {
      "cell_type": "code",
      "source": [
        "X_array  = X.toarray()\n",
        "featuer_ex = Vectorizer.get_feature_names_out()"
      ],
      "metadata": {
        "id": "i22Vlhz4xQy0"
      },
      "execution_count": null,
      "outputs": []
    },
    {
      "cell_type": "markdown",
      "source": [
        "# #TODO : Display the TF-IDF representation\n"
      ],
      "metadata": {
        "id": "Dz4Sc5V8KVAu"
      }
    },
    {
      "cell_type": "code",
      "source": [
        "import pandas as pd\n",
        "\n",
        "df = pd.DataFrame(X_array, columns= featuer_ex)"
      ],
      "metadata": {
        "id": "V-qylR1nyOCy"
      },
      "execution_count": null,
      "outputs": []
    },
    {
      "cell_type": "code",
      "source": [
        "df"
      ],
      "metadata": {
        "colab": {
          "base_uri": "https://localhost:8080/",
          "height": 163
        },
        "id": "SiXiom4tyhde",
        "outputId": "60c0c555-5627-471b-dbc8-9a7b999e8744"
      },
      "execution_count": null,
      "outputs": [
        {
          "output_type": "execute_result",
          "data": {
            "text/plain": [
              "   algorithms        an  analysis      data     field       for  \\\n",
              "0    0.000000  0.459548  0.000000  0.349498  0.459548  0.000000   \n",
              "1    0.408248  0.000000  0.000000  0.000000  0.000000  0.000000   \n",
              "2    0.000000  0.000000  0.393129  0.597969  0.000000  0.393129   \n",
              "\n",
              "   interdisciplinary        is        it   methods  processes   science  \\\n",
              "0           0.459548  0.349498  0.000000  0.000000   0.000000  0.349498   \n",
              "1           0.000000  0.000000  0.408248  0.408248   0.408248  0.000000   \n",
              "2           0.000000  0.298984  0.000000  0.000000   0.000000  0.298984   \n",
              "\n",
              "   scientific      used      uses  \n",
              "0    0.000000  0.000000  0.000000  \n",
              "1    0.408248  0.000000  0.408248  \n",
              "2    0.000000  0.393129  0.000000  "
            ],
            "text/html": [
              "\n",
              "  <div id=\"df-29a6dbb7-da1b-4184-b5d7-3d776690dafb\" class=\"colab-df-container\">\n",
              "    <div>\n",
              "<style scoped>\n",
              "    .dataframe tbody tr th:only-of-type {\n",
              "        vertical-align: middle;\n",
              "    }\n",
              "\n",
              "    .dataframe tbody tr th {\n",
              "        vertical-align: top;\n",
              "    }\n",
              "\n",
              "    .dataframe thead th {\n",
              "        text-align: right;\n",
              "    }\n",
              "</style>\n",
              "<table border=\"1\" class=\"dataframe\">\n",
              "  <thead>\n",
              "    <tr style=\"text-align: right;\">\n",
              "      <th></th>\n",
              "      <th>algorithms</th>\n",
              "      <th>an</th>\n",
              "      <th>analysis</th>\n",
              "      <th>data</th>\n",
              "      <th>field</th>\n",
              "      <th>for</th>\n",
              "      <th>interdisciplinary</th>\n",
              "      <th>is</th>\n",
              "      <th>it</th>\n",
              "      <th>methods</th>\n",
              "      <th>processes</th>\n",
              "      <th>science</th>\n",
              "      <th>scientific</th>\n",
              "      <th>used</th>\n",
              "      <th>uses</th>\n",
              "    </tr>\n",
              "  </thead>\n",
              "  <tbody>\n",
              "    <tr>\n",
              "      <th>0</th>\n",
              "      <td>0.000000</td>\n",
              "      <td>0.459548</td>\n",
              "      <td>0.000000</td>\n",
              "      <td>0.349498</td>\n",
              "      <td>0.459548</td>\n",
              "      <td>0.000000</td>\n",
              "      <td>0.459548</td>\n",
              "      <td>0.349498</td>\n",
              "      <td>0.000000</td>\n",
              "      <td>0.000000</td>\n",
              "      <td>0.000000</td>\n",
              "      <td>0.349498</td>\n",
              "      <td>0.000000</td>\n",
              "      <td>0.000000</td>\n",
              "      <td>0.000000</td>\n",
              "    </tr>\n",
              "    <tr>\n",
              "      <th>1</th>\n",
              "      <td>0.408248</td>\n",
              "      <td>0.000000</td>\n",
              "      <td>0.000000</td>\n",
              "      <td>0.000000</td>\n",
              "      <td>0.000000</td>\n",
              "      <td>0.000000</td>\n",
              "      <td>0.000000</td>\n",
              "      <td>0.000000</td>\n",
              "      <td>0.408248</td>\n",
              "      <td>0.408248</td>\n",
              "      <td>0.408248</td>\n",
              "      <td>0.000000</td>\n",
              "      <td>0.408248</td>\n",
              "      <td>0.000000</td>\n",
              "      <td>0.408248</td>\n",
              "    </tr>\n",
              "    <tr>\n",
              "      <th>2</th>\n",
              "      <td>0.000000</td>\n",
              "      <td>0.000000</td>\n",
              "      <td>0.393129</td>\n",
              "      <td>0.597969</td>\n",
              "      <td>0.000000</td>\n",
              "      <td>0.393129</td>\n",
              "      <td>0.000000</td>\n",
              "      <td>0.298984</td>\n",
              "      <td>0.000000</td>\n",
              "      <td>0.000000</td>\n",
              "      <td>0.000000</td>\n",
              "      <td>0.298984</td>\n",
              "      <td>0.000000</td>\n",
              "      <td>0.393129</td>\n",
              "      <td>0.000000</td>\n",
              "    </tr>\n",
              "  </tbody>\n",
              "</table>\n",
              "</div>\n",
              "    <div class=\"colab-df-buttons\">\n",
              "\n",
              "  <div class=\"colab-df-container\">\n",
              "    <button class=\"colab-df-convert\" onclick=\"convertToInteractive('df-29a6dbb7-da1b-4184-b5d7-3d776690dafb')\"\n",
              "            title=\"Convert this dataframe to an interactive table.\"\n",
              "            style=\"display:none;\">\n",
              "\n",
              "  <svg xmlns=\"http://www.w3.org/2000/svg\" height=\"24px\" viewBox=\"0 -960 960 960\">\n",
              "    <path d=\"M120-120v-720h720v720H120Zm60-500h600v-160H180v160Zm220 220h160v-160H400v160Zm0 220h160v-160H400v160ZM180-400h160v-160H180v160Zm440 0h160v-160H620v160ZM180-180h160v-160H180v160Zm440 0h160v-160H620v160Z\"/>\n",
              "  </svg>\n",
              "    </button>\n",
              "\n",
              "  <style>\n",
              "    .colab-df-container {\n",
              "      display:flex;\n",
              "      gap: 12px;\n",
              "    }\n",
              "\n",
              "    .colab-df-convert {\n",
              "      background-color: #E8F0FE;\n",
              "      border: none;\n",
              "      border-radius: 50%;\n",
              "      cursor: pointer;\n",
              "      display: none;\n",
              "      fill: #1967D2;\n",
              "      height: 32px;\n",
              "      padding: 0 0 0 0;\n",
              "      width: 32px;\n",
              "    }\n",
              "\n",
              "    .colab-df-convert:hover {\n",
              "      background-color: #E2EBFA;\n",
              "      box-shadow: 0px 1px 2px rgba(60, 64, 67, 0.3), 0px 1px 3px 1px rgba(60, 64, 67, 0.15);\n",
              "      fill: #174EA6;\n",
              "    }\n",
              "\n",
              "    .colab-df-buttons div {\n",
              "      margin-bottom: 4px;\n",
              "    }\n",
              "\n",
              "    [theme=dark] .colab-df-convert {\n",
              "      background-color: #3B4455;\n",
              "      fill: #D2E3FC;\n",
              "    }\n",
              "\n",
              "    [theme=dark] .colab-df-convert:hover {\n",
              "      background-color: #434B5C;\n",
              "      box-shadow: 0px 1px 3px 1px rgba(0, 0, 0, 0.15);\n",
              "      filter: drop-shadow(0px 1px 2px rgba(0, 0, 0, 0.3));\n",
              "      fill: #FFFFFF;\n",
              "    }\n",
              "  </style>\n",
              "\n",
              "    <script>\n",
              "      const buttonEl =\n",
              "        document.querySelector('#df-29a6dbb7-da1b-4184-b5d7-3d776690dafb button.colab-df-convert');\n",
              "      buttonEl.style.display =\n",
              "        google.colab.kernel.accessAllowed ? 'block' : 'none';\n",
              "\n",
              "      async function convertToInteractive(key) {\n",
              "        const element = document.querySelector('#df-29a6dbb7-da1b-4184-b5d7-3d776690dafb');\n",
              "        const dataTable =\n",
              "          await google.colab.kernel.invokeFunction('convertToInteractive',\n",
              "                                                    [key], {});\n",
              "        if (!dataTable) return;\n",
              "\n",
              "        const docLinkHtml = 'Like what you see? Visit the ' +\n",
              "          '<a target=\"_blank\" href=https://colab.research.google.com/notebooks/data_table.ipynb>data table notebook</a>'\n",
              "          + ' to learn more about interactive tables.';\n",
              "        element.innerHTML = '';\n",
              "        dataTable['output_type'] = 'display_data';\n",
              "        await google.colab.output.renderOutput(dataTable, element);\n",
              "        const docLink = document.createElement('div');\n",
              "        docLink.innerHTML = docLinkHtml;\n",
              "        element.appendChild(docLink);\n",
              "      }\n",
              "    </script>\n",
              "  </div>\n",
              "\n",
              "\n",
              "<div id=\"df-f597e177-1e17-41a0-b440-a94e869703bd\">\n",
              "  <button class=\"colab-df-quickchart\" onclick=\"quickchart('df-f597e177-1e17-41a0-b440-a94e869703bd')\"\n",
              "            title=\"Suggest charts\"\n",
              "            style=\"display:none;\">\n",
              "\n",
              "<svg xmlns=\"http://www.w3.org/2000/svg\" height=\"24px\"viewBox=\"0 0 24 24\"\n",
              "     width=\"24px\">\n",
              "    <g>\n",
              "        <path d=\"M19 3H5c-1.1 0-2 .9-2 2v14c0 1.1.9 2 2 2h14c1.1 0 2-.9 2-2V5c0-1.1-.9-2-2-2zM9 17H7v-7h2v7zm4 0h-2V7h2v10zm4 0h-2v-4h2v4z\"/>\n",
              "    </g>\n",
              "</svg>\n",
              "  </button>\n",
              "\n",
              "<style>\n",
              "  .colab-df-quickchart {\n",
              "      --bg-color: #E8F0FE;\n",
              "      --fill-color: #1967D2;\n",
              "      --hover-bg-color: #E2EBFA;\n",
              "      --hover-fill-color: #174EA6;\n",
              "      --disabled-fill-color: #AAA;\n",
              "      --disabled-bg-color: #DDD;\n",
              "  }\n",
              "\n",
              "  [theme=dark] .colab-df-quickchart {\n",
              "      --bg-color: #3B4455;\n",
              "      --fill-color: #D2E3FC;\n",
              "      --hover-bg-color: #434B5C;\n",
              "      --hover-fill-color: #FFFFFF;\n",
              "      --disabled-bg-color: #3B4455;\n",
              "      --disabled-fill-color: #666;\n",
              "  }\n",
              "\n",
              "  .colab-df-quickchart {\n",
              "    background-color: var(--bg-color);\n",
              "    border: none;\n",
              "    border-radius: 50%;\n",
              "    cursor: pointer;\n",
              "    display: none;\n",
              "    fill: var(--fill-color);\n",
              "    height: 32px;\n",
              "    padding: 0;\n",
              "    width: 32px;\n",
              "  }\n",
              "\n",
              "  .colab-df-quickchart:hover {\n",
              "    background-color: var(--hover-bg-color);\n",
              "    box-shadow: 0 1px 2px rgba(60, 64, 67, 0.3), 0 1px 3px 1px rgba(60, 64, 67, 0.15);\n",
              "    fill: var(--button-hover-fill-color);\n",
              "  }\n",
              "\n",
              "  .colab-df-quickchart-complete:disabled,\n",
              "  .colab-df-quickchart-complete:disabled:hover {\n",
              "    background-color: var(--disabled-bg-color);\n",
              "    fill: var(--disabled-fill-color);\n",
              "    box-shadow: none;\n",
              "  }\n",
              "\n",
              "  .colab-df-spinner {\n",
              "    border: 2px solid var(--fill-color);\n",
              "    border-color: transparent;\n",
              "    border-bottom-color: var(--fill-color);\n",
              "    animation:\n",
              "      spin 1s steps(1) infinite;\n",
              "  }\n",
              "\n",
              "  @keyframes spin {\n",
              "    0% {\n",
              "      border-color: transparent;\n",
              "      border-bottom-color: var(--fill-color);\n",
              "      border-left-color: var(--fill-color);\n",
              "    }\n",
              "    20% {\n",
              "      border-color: transparent;\n",
              "      border-left-color: var(--fill-color);\n",
              "      border-top-color: var(--fill-color);\n",
              "    }\n",
              "    30% {\n",
              "      border-color: transparent;\n",
              "      border-left-color: var(--fill-color);\n",
              "      border-top-color: var(--fill-color);\n",
              "      border-right-color: var(--fill-color);\n",
              "    }\n",
              "    40% {\n",
              "      border-color: transparent;\n",
              "      border-right-color: var(--fill-color);\n",
              "      border-top-color: var(--fill-color);\n",
              "    }\n",
              "    60% {\n",
              "      border-color: transparent;\n",
              "      border-right-color: var(--fill-color);\n",
              "    }\n",
              "    80% {\n",
              "      border-color: transparent;\n",
              "      border-right-color: var(--fill-color);\n",
              "      border-bottom-color: var(--fill-color);\n",
              "    }\n",
              "    90% {\n",
              "      border-color: transparent;\n",
              "      border-bottom-color: var(--fill-color);\n",
              "    }\n",
              "  }\n",
              "</style>\n",
              "\n",
              "  <script>\n",
              "    async function quickchart(key) {\n",
              "      const quickchartButtonEl =\n",
              "        document.querySelector('#' + key + ' button');\n",
              "      quickchartButtonEl.disabled = true;  // To prevent multiple clicks.\n",
              "      quickchartButtonEl.classList.add('colab-df-spinner');\n",
              "      try {\n",
              "        const charts = await google.colab.kernel.invokeFunction(\n",
              "            'suggestCharts', [key], {});\n",
              "      } catch (error) {\n",
              "        console.error('Error during call to suggestCharts:', error);\n",
              "      }\n",
              "      quickchartButtonEl.classList.remove('colab-df-spinner');\n",
              "      quickchartButtonEl.classList.add('colab-df-quickchart-complete');\n",
              "    }\n",
              "    (() => {\n",
              "      let quickchartButtonEl =\n",
              "        document.querySelector('#df-f597e177-1e17-41a0-b440-a94e869703bd button');\n",
              "      quickchartButtonEl.style.display =\n",
              "        google.colab.kernel.accessAllowed ? 'block' : 'none';\n",
              "    })();\n",
              "  </script>\n",
              "</div>\n",
              "\n",
              "  <div id=\"id_abfa8f0d-c877-4cca-9df6-b0a27f562660\">\n",
              "    <style>\n",
              "      .colab-df-generate {\n",
              "        background-color: #E8F0FE;\n",
              "        border: none;\n",
              "        border-radius: 50%;\n",
              "        cursor: pointer;\n",
              "        display: none;\n",
              "        fill: #1967D2;\n",
              "        height: 32px;\n",
              "        padding: 0 0 0 0;\n",
              "        width: 32px;\n",
              "      }\n",
              "\n",
              "      .colab-df-generate:hover {\n",
              "        background-color: #E2EBFA;\n",
              "        box-shadow: 0px 1px 2px rgba(60, 64, 67, 0.3), 0px 1px 3px 1px rgba(60, 64, 67, 0.15);\n",
              "        fill: #174EA6;\n",
              "      }\n",
              "\n",
              "      [theme=dark] .colab-df-generate {\n",
              "        background-color: #3B4455;\n",
              "        fill: #D2E3FC;\n",
              "      }\n",
              "\n",
              "      [theme=dark] .colab-df-generate:hover {\n",
              "        background-color: #434B5C;\n",
              "        box-shadow: 0px 1px 3px 1px rgba(0, 0, 0, 0.15);\n",
              "        filter: drop-shadow(0px 1px 2px rgba(0, 0, 0, 0.3));\n",
              "        fill: #FFFFFF;\n",
              "      }\n",
              "    </style>\n",
              "    <button class=\"colab-df-generate\" onclick=\"generateWithVariable('df')\"\n",
              "            title=\"Generate code using this dataframe.\"\n",
              "            style=\"display:none;\">\n",
              "\n",
              "  <svg xmlns=\"http://www.w3.org/2000/svg\" height=\"24px\"viewBox=\"0 0 24 24\"\n",
              "       width=\"24px\">\n",
              "    <path d=\"M7,19H8.4L18.45,9,17,7.55,7,17.6ZM5,21V16.75L18.45,3.32a2,2,0,0,1,2.83,0l1.4,1.43a1.91,1.91,0,0,1,.58,1.4,1.91,1.91,0,0,1-.58,1.4L9.25,21ZM18.45,9,17,7.55Zm-12,3A5.31,5.31,0,0,0,4.9,8.1,5.31,5.31,0,0,0,1,6.5,5.31,5.31,0,0,0,4.9,4.9,5.31,5.31,0,0,0,6.5,1,5.31,5.31,0,0,0,8.1,4.9,5.31,5.31,0,0,0,12,6.5,5.46,5.46,0,0,0,6.5,12Z\"/>\n",
              "  </svg>\n",
              "    </button>\n",
              "    <script>\n",
              "      (() => {\n",
              "      const buttonEl =\n",
              "        document.querySelector('#id_abfa8f0d-c877-4cca-9df6-b0a27f562660 button.colab-df-generate');\n",
              "      buttonEl.style.display =\n",
              "        google.colab.kernel.accessAllowed ? 'block' : 'none';\n",
              "\n",
              "      buttonEl.onclick = () => {\n",
              "        google.colab.notebook.generateWithVariable('df');\n",
              "      }\n",
              "      })();\n",
              "    </script>\n",
              "  </div>\n",
              "\n",
              "    </div>\n",
              "  </div>\n"
            ],
            "application/vnd.google.colaboratory.intrinsic+json": {
              "type": "dataframe",
              "variable_name": "df",
              "summary": "{\n  \"name\": \"df\",\n  \"rows\": 3,\n  \"fields\": [\n    {\n      \"column\": \"algorithms\",\n      \"properties\": {\n        \"dtype\": \"number\",\n        \"std\": 0.23570226039551584,\n        \"min\": 0.0,\n        \"max\": 0.4082482904638631,\n        \"num_unique_values\": 2,\n        \"samples\": [\n          0.4082482904638631,\n          0.0\n        ],\n        \"semantic_type\": \"\",\n        \"description\": \"\"\n      }\n    },\n    {\n      \"column\": \"an\",\n      \"properties\": {\n        \"dtype\": \"number\",\n        \"std\": 0.26532018052272177,\n        \"min\": 0.0,\n        \"max\": 0.45954803293870056,\n        \"num_unique_values\": 2,\n        \"samples\": [\n          0.0,\n          0.45954803293870056\n        ],\n        \"semantic_type\": \"\",\n        \"description\": \"\"\n      }\n    },\n    {\n      \"column\": \"analysis\",\n      \"properties\": {\n        \"dtype\": \"number\",\n        \"std\": 0.22697285346622806,\n        \"min\": 0.0,\n        \"max\": 0.39312851414239275,\n        \"num_unique_values\": 2,\n        \"samples\": [\n          0.39312851414239275,\n          0.0\n        ],\n        \"semantic_type\": \"\",\n        \"description\": \"\"\n      }\n    },\n    {\n      \"column\": \"data\",\n      \"properties\": {\n        \"dtype\": \"number\",\n        \"std\": 0.300403393567903,\n        \"min\": 0.0,\n        \"max\": 0.5979687361418285,\n        \"num_unique_values\": 3,\n        \"samples\": [\n          0.3494981241087058,\n          0.0\n        ],\n        \"semantic_type\": \"\",\n        \"description\": \"\"\n      }\n    },\n    {\n      \"column\": \"field\",\n      \"properties\": {\n        \"dtype\": \"number\",\n        \"std\": 0.26532018052272177,\n        \"min\": 0.0,\n        \"max\": 0.45954803293870056,\n        \"num_unique_values\": 2,\n        \"samples\": [\n          0.0,\n          0.45954803293870056\n        ],\n        \"semantic_type\": \"\",\n        \"description\": \"\"\n      }\n    },\n    {\n      \"column\": \"for\",\n      \"properties\": {\n        \"dtype\": \"number\",\n        \"std\": 0.22697285346622806,\n        \"min\": 0.0,\n        \"max\": 0.39312851414239275,\n        \"num_unique_values\": 2,\n        \"samples\": [\n          0.39312851414239275,\n          0.0\n        ],\n        \"semantic_type\": \"\",\n        \"description\": \"\"\n      }\n    },\n    {\n      \"column\": \"interdisciplinary\",\n      \"properties\": {\n        \"dtype\": \"number\",\n        \"std\": 0.26532018052272177,\n        \"min\": 0.0,\n        \"max\": 0.45954803293870056,\n        \"num_unique_values\": 2,\n        \"samples\": [\n          0.0,\n          0.45954803293870056\n        ],\n        \"semantic_type\": \"\",\n        \"description\": \"\"\n      }\n    },\n    {\n      \"column\": \"is\",\n      \"properties\": {\n        \"dtype\": \"number\",\n        \"std\": 0.18889689897547896,\n        \"min\": 0.0,\n        \"max\": 0.3494981241087058,\n        \"num_unique_values\": 3,\n        \"samples\": [\n          0.3494981241087058,\n          0.0\n        ],\n        \"semantic_type\": \"\",\n        \"description\": \"\"\n      }\n    },\n    {\n      \"column\": \"it\",\n      \"properties\": {\n        \"dtype\": \"number\",\n        \"std\": 0.23570226039551584,\n        \"min\": 0.0,\n        \"max\": 0.4082482904638631,\n        \"num_unique_values\": 2,\n        \"samples\": [\n          0.4082482904638631,\n          0.0\n        ],\n        \"semantic_type\": \"\",\n        \"description\": \"\"\n      }\n    },\n    {\n      \"column\": \"methods\",\n      \"properties\": {\n        \"dtype\": \"number\",\n        \"std\": 0.23570226039551584,\n        \"min\": 0.0,\n        \"max\": 0.4082482904638631,\n        \"num_unique_values\": 2,\n        \"samples\": [\n          0.4082482904638631,\n          0.0\n        ],\n        \"semantic_type\": \"\",\n        \"description\": \"\"\n      }\n    },\n    {\n      \"column\": \"processes\",\n      \"properties\": {\n        \"dtype\": \"number\",\n        \"std\": 0.23570226039551584,\n        \"min\": 0.0,\n        \"max\": 0.4082482904638631,\n        \"num_unique_values\": 2,\n        \"samples\": [\n          0.4082482904638631,\n          0.0\n        ],\n        \"semantic_type\": \"\",\n        \"description\": \"\"\n      }\n    },\n    {\n      \"column\": \"science\",\n      \"properties\": {\n        \"dtype\": \"number\",\n        \"std\": 0.18889689897547896,\n        \"min\": 0.0,\n        \"max\": 0.3494981241087058,\n        \"num_unique_values\": 3,\n        \"samples\": [\n          0.3494981241087058,\n          0.0\n        ],\n        \"semantic_type\": \"\",\n        \"description\": \"\"\n      }\n    },\n    {\n      \"column\": \"scientific\",\n      \"properties\": {\n        \"dtype\": \"number\",\n        \"std\": 0.23570226039551584,\n        \"min\": 0.0,\n        \"max\": 0.4082482904638631,\n        \"num_unique_values\": 2,\n        \"samples\": [\n          0.4082482904638631,\n          0.0\n        ],\n        \"semantic_type\": \"\",\n        \"description\": \"\"\n      }\n    },\n    {\n      \"column\": \"used\",\n      \"properties\": {\n        \"dtype\": \"number\",\n        \"std\": 0.22697285346622806,\n        \"min\": 0.0,\n        \"max\": 0.39312851414239275,\n        \"num_unique_values\": 2,\n        \"samples\": [\n          0.39312851414239275,\n          0.0\n        ],\n        \"semantic_type\": \"\",\n        \"description\": \"\"\n      }\n    },\n    {\n      \"column\": \"uses\",\n      \"properties\": {\n        \"dtype\": \"number\",\n        \"std\": 0.23570226039551584,\n        \"min\": 0.0,\n        \"max\": 0.4082482904638631,\n        \"num_unique_values\": 2,\n        \"samples\": [\n          0.4082482904638631,\n          0.0\n        ],\n        \"semantic_type\": \"\",\n        \"description\": \"\"\n      }\n    }\n  ]\n}"
            }
          },
          "metadata": {},
          "execution_count": 31
        }
      ]
    },
    {
      "cell_type": "code",
      "source": [],
      "metadata": {
        "id": "eg2lZMRBx30_"
      },
      "execution_count": null,
      "outputs": []
    }
  ]
}